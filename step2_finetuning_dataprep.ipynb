{
 "cells": [
  {
   "cell_type": "code",
   "execution_count": 21,
   "id": "3acf7652-5b71-4737-b42c-abb3d2c2d075",
   "metadata": {
    "execution": {
     "iopub.execute_input": "2024-08-07T17:06:39.256794Z",
     "iopub.status.busy": "2024-08-07T17:06:39.255709Z",
     "iopub.status.idle": "2024-08-07T17:06:39.267299Z",
     "shell.execute_reply": "2024-08-07T17:06:39.265867Z",
     "shell.execute_reply.started": "2024-08-07T17:06:39.256727Z"
    }
   },
   "outputs": [],
   "source": [
    "import pandas as pd\n",
    "import json\n",
    "import os\n",
    "from sklearn.model_selection import train_test_split"
   ]
  },
  {
   "cell_type": "code",
   "execution_count": 25,
   "id": "00abd75c-eaa8-4c6d-81c0-dfb032766c89",
   "metadata": {
    "execution": {
     "iopub.execute_input": "2024-08-07T17:12:34.121058Z",
     "iopub.status.busy": "2024-08-07T17:12:34.120238Z",
     "iopub.status.idle": "2024-08-07T17:12:34.142677Z",
     "shell.execute_reply": "2024-08-07T17:12:34.142082Z",
     "shell.execute_reply.started": "2024-08-07T17:12:34.120995Z"
    }
   },
   "outputs": [
    {
     "data": {
      "text/plain": [
       "Index(['Number of Bedrooms', 'Type of Property', 'Is any space shared?',\n",
       "       'Overall vibes/atmosphere'],\n",
       "      dtype='object')"
      ]
     },
     "execution_count": 25,
     "metadata": {},
     "output_type": "execute_result"
    }
   ],
   "source": [
    "# file_name = 'Airbnb Listing Descriptions - dataset_v1.csv'\n",
    "file_name = 'Airbnb Listing Descriptions - dataset_v2.csv'\n",
    "\n",
    "dataset = pd.read_csv(file_name)\n",
    "\n",
    "# Extract column names for features in the last 4 columns\n",
    "feature_columns = dataset.columns[-4:]\n",
    "feature_columns"
   ]
  },
  {
   "cell_type": "code",
   "execution_count": 26,
   "id": "da58874c-7fd7-4adb-a512-0f8670337a7c",
   "metadata": {
    "execution": {
     "iopub.execute_input": "2024-08-07T17:12:43.255273Z",
     "iopub.status.busy": "2024-08-07T17:12:43.254374Z",
     "iopub.status.idle": "2024-08-07T17:12:43.264129Z",
     "shell.execute_reply": "2024-08-07T17:12:43.262947Z",
     "shell.execute_reply.started": "2024-08-07T17:12:43.255206Z"
    }
   },
   "outputs": [
    {
     "name": "stdout",
     "output_type": "stream",
     "text": [
      "(600, 6)\n"
     ]
    }
   ],
   "source": [
    "print(dataset.shape)"
   ]
  },
  {
   "cell_type": "code",
   "execution_count": 27,
   "id": "6a8edc80-3077-43ac-bcbe-5ac2fc0a394c",
   "metadata": {
    "execution": {
     "iopub.execute_input": "2024-08-07T17:12:51.032851Z",
     "iopub.status.busy": "2024-08-07T17:12:51.032265Z",
     "iopub.status.idle": "2024-08-07T17:12:51.045020Z",
     "shell.execute_reply": "2024-08-07T17:12:51.044058Z",
     "shell.execute_reply.started": "2024-08-07T17:12:51.032818Z"
    }
   },
   "outputs": [],
   "source": [
    "# Split the dataset into training, validation, and test sets\n",
    "train, temp = train_test_split(dataset, test_size=0.4, random_state=42)\n",
    "val, test = train_test_split(temp, test_size=0.5, random_state=42)"
   ]
  },
  {
   "cell_type": "code",
   "execution_count": 34,
   "id": "b9b8114e-9257-4646-affa-e1782edf071e",
   "metadata": {
    "execution": {
     "iopub.execute_input": "2024-08-07T17:41:37.069933Z",
     "iopub.status.busy": "2024-08-07T17:41:37.069075Z",
     "iopub.status.idle": "2024-08-07T17:41:37.085381Z",
     "shell.execute_reply": "2024-08-07T17:41:37.082822Z",
     "shell.execute_reply.started": "2024-08-07T17:41:37.069886Z"
    }
   },
   "outputs": [],
   "source": [
    "def write_data(file_path, dataset, prompt_instructions):\n",
    "    # Processing each row to create the fine-tuning data\n",
    "    with open(file_path, 'w') as f:\n",
    "        for index, row in dataset.iterrows():\n",
    "            #isolating text, and cleaning it from HTML breaks\n",
    "            prompt_text = f\"{row['name']} {row['description'].replace('<br />', ' ')}\"  \n",
    "\n",
    "            prompt = f\"\"\"\n",
    "            {prompt_instructions} {prompt_text}\"\"\"\n",
    "    \n",
    "            # Creating the completion JSON object with actual data from the last four columns\n",
    "            completion_data = {feature_columns[i]: row[feature_columns[i]] for i in range(len(feature_columns))}\n",
    "            completion = json.dumps(completion_data)  # Convert the dictionary to a JSON string\n",
    "    \n",
    "            # Write each dictionary as a separate line in the JSONL file\n",
    "            json_line = json.dumps({'prompt': prompt, 'completion': completion})\n",
    "            f.write(json_line + '\\n')  # Ensure each entry is on a new line\n",
    "    \n",
    "    print(\"Data has been saved to\", file_path)"
   ]
  },
  {
   "cell_type": "code",
   "execution_count": 36,
   "id": "29903f15-dc0e-4f2b-aad9-ccbdcc4a303a",
   "metadata": {
    "execution": {
     "iopub.execute_input": "2024-08-07T17:42:11.832576Z",
     "iopub.status.busy": "2024-08-07T17:42:11.831753Z",
     "iopub.status.idle": "2024-08-07T17:42:11.885231Z",
     "shell.execute_reply": "2024-08-07T17:42:11.884663Z",
     "shell.execute_reply.started": "2024-08-07T17:42:11.832513Z"
    }
   },
   "outputs": [
    {
     "name": "stdout",
     "output_type": "stream",
     "text": [
      "Data has been saved to fine_tuning_data_v2/train.jsonl\n",
      "Data has been saved to fine_tuning_data_v2/val.jsonl\n",
      "Data has been saved to fine_tuning_data_v2/test.jsonl\n"
     ]
    }
   ],
   "source": [
    "prompt_instructions = \"\"\"\n",
    "Given the following Airbnb description, Extract the number of bedrooms, determine the type of property, \n",
    "            determine whether Is any space shared?, and classify Overall vibes/atmosphere \n",
    "            return in JSON format:\n",
    "\"\"\"\n",
    "new_directory_name = 'fine_tuning_data_v2'\n",
    "# Create a new directory to store the files\n",
    "os.makedirs(new_directory_name, exist_ok=True)\n",
    "\n",
    "# Write the splits to files\n",
    "write_data(f'{new_directory_name}/train.jsonl', train, prompt_instructions)\n",
    "write_data(f'{new_directory_name}/val.jsonl', val, prompt_instructions)\n",
    "write_data(f'{new_directory_name}/test.jsonl', test, prompt_instructions)"
   ]
  },
  {
   "cell_type": "code",
   "execution_count": 37,
   "id": "66372a22-f0ac-42e0-8e22-2848cfa3f00a",
   "metadata": {
    "execution": {
     "iopub.execute_input": "2024-08-07T17:42:52.782449Z",
     "iopub.status.busy": "2024-08-07T17:42:52.781585Z",
     "iopub.status.idle": "2024-08-07T17:42:52.842725Z",
     "shell.execute_reply": "2024-08-07T17:42:52.842345Z",
     "shell.execute_reply.started": "2024-08-07T17:42:52.782403Z"
    }
   },
   "outputs": [
    {
     "name": "stdout",
     "output_type": "stream",
     "text": [
      "Data has been saved to fine_tuning_data_v2_detailedInstructions/train.jsonl\n",
      "Data has been saved to fine_tuning_data_v2_detailedInstructions/val.jsonl\n",
      "Data has been saved to fine_tuning_data_v2_detailedInstructions/test.jsonl\n"
     ]
    }
   ],
   "source": [
    "prompt_instructions = \"\"\"\n",
    "Consider the Airbnb listing description provided below. Your task involves a detailed extraction of specific attributes that are crucial for understanding the property's characteristics and appeal. Proceed as follows:\n",
    "\n",
    "1. **Number of Bedrooms**: Identify and report the exact number of bedrooms mentioned. If the description implies a single bedroom area, such as in a studio, explicitly note it as '1'. If no specific number is mentioned, state 'Not specified'.\n",
    "\n",
    "2. **Type of Property**: Determine the type of property based on descriptions such as 'studio', 'apartment', 'house', 'loft', etc. Provide the exact type as mentioned in the description. If the property type is not directly stated, use your judgment based on the description provided and categorize it as 'Not specified' if uncertain.\n",
    "\n",
    "3. **Shared Space Indicator**: Assess whether any part of the property is shared with other guests or residents. This includes bathrooms, kitchens, living areas, or any mention of communal spaces. Return 'TRUE' if shared spaces are mentioned, and 'FALSE' if the listing indicates private use of all facilities or if there is no mention of shared facilities.\n",
    "\n",
    "4. **Overall Vibe or Atmosphere**: Classify the atmosphere of the property based on the descriptors used in the listing. Use categories such as:\n",
    "   - 'MODERN': Mention of contemporary design elements, modern furniture, or state-of-the-art facilities.\n",
    "   - 'CHIC': Descriptions include terms like stylish, fashionable, or elegant.\n",
    "   - 'ARTSY': The presence of artistic decor, vibrant colors, or a focus on creative environments.\n",
    "   - 'HISTORIC': Properties that retain historical architecture or are situated in historically significant neighborhoods.\n",
    "   - 'COMFORTABLE': Listings that emphasize comfort, coziness, or a relaxing environment.\n",
    "   - 'PLAIN': Simple, minimalistic, or basic amenities without any specific decorative mentions.\n",
    "If the vibe is not clearly defined or if the description lacks enough information for a definite classification, mark it as 'Not specified'.\n",
    "\n",
    "Please structure your findings in a JSON format to maintain clarity and ease of further processing. Here is the description to analyze:\n",
    "\"\"\"\n",
    "\n",
    "new_directory_name = 'fine_tuning_data_v2_detailedInstructions'\n",
    "# Create a new directory to store the files\n",
    "os.makedirs(new_directory_name, exist_ok=True)\n",
    "\n",
    "# Write the splits to files\n",
    "write_data(f'{new_directory_name}/train.jsonl', train, prompt_instructions)\n",
    "write_data(f'{new_directory_name}/val.jsonl', val, prompt_instructions)\n",
    "write_data(f'{new_directory_name}/test.jsonl', test, prompt_instructions)"
   ]
  },
  {
   "cell_type": "code",
   "execution_count": 41,
   "id": "ed6f8071-7488-425f-a967-ef7e3fdc5d61",
   "metadata": {
    "execution": {
     "iopub.execute_input": "2024-08-07T18:15:48.303321Z",
     "iopub.status.busy": "2024-08-07T18:15:48.302171Z",
     "iopub.status.idle": "2024-08-07T18:15:48.318683Z",
     "shell.execute_reply": "2024-08-07T18:15:48.317211Z",
     "shell.execute_reply.started": "2024-08-07T18:15:48.303238Z"
    }
   },
   "outputs": [],
   "source": [
    "def write_data_for_gpttraining(file_path, data, system_description):\n",
    "    with open(file_path, 'w') as f:\n",
    "        for index, row in data.iterrows():\n",
    "            user_prompt = f\"{row['name']} {row['description'].replace('<br />', ' ')}\"  # Clean HTML breaks and unnecessary whitespace\n",
    "            \n",
    "            # Creating the completion JSON object with actual data from the last four columns\n",
    "            completion_data = {feature_columns[i]: row[feature_columns[i]] for i in range(len(feature_columns))}\n",
    "            completion = json.dumps(completion_data)  # Convert the dictionary to a JSON string\n",
    "            \n",
    "            # Creating the structured output for fine-tuning\n",
    "            structured_entry = {\n",
    "                \"messages\": [\n",
    "                    {\"role\": \"system\", \"content\": system_description},\n",
    "                    {\"role\": \"user\", \"content\": user_prompt},\n",
    "                    {\"role\": \"assistant\", \"content\": completion}\n",
    "                ]\n",
    "            }\n",
    "            \n",
    "            # Write each dictionary as a separate line in the JSONL file\n",
    "            json_line = json.dumps(structured_entry)\n",
    "            f.write(json_line + '\\n')  # Ensure each entry is on a new line\n"
   ]
  },
  {
   "cell_type": "code",
   "execution_count": 42,
   "id": "ae33d5d3-91cc-4e9e-8351-28a5207fb686",
   "metadata": {
    "execution": {
     "iopub.execute_input": "2024-08-07T18:15:49.396995Z",
     "iopub.status.busy": "2024-08-07T18:15:49.396195Z",
     "iopub.status.idle": "2024-08-07T18:15:49.452985Z",
     "shell.execute_reply": "2024-08-07T18:15:49.452435Z",
     "shell.execute_reply.started": "2024-08-07T18:15:49.396932Z"
    }
   },
   "outputs": [],
   "source": [
    "new_directory_name = 'fine_tuning_data_v2_detailedInstructions_gpt3format'\n",
    "# Create a new directory to store the files\n",
    "os.makedirs(new_directory_name, exist_ok=True)\n",
    "\n",
    "# Write the splits to files\n",
    "write_data_for_gpttraining(f'{new_directory_name}/train.jsonl', train, prompt_instructions)\n",
    "write_data_for_gpttraining(f'{new_directory_name}/val.jsonl', val, prompt_instructions)\n",
    "write_data_for_gpttraining(f'{new_directory_name}/test.jsonl', test, prompt_instructions)"
   ]
  },
  {
   "cell_type": "code",
   "execution_count": null,
   "id": "53a1438b-9d9e-4318-9244-e880b4599039",
   "metadata": {},
   "outputs": [],
   "source": []
  }
 ],
 "metadata": {
  "kernelspec": {
   "display_name": "Python 3 (ipykernel)",
   "language": "python",
   "name": "python3"
  },
  "language_info": {
   "codemirror_mode": {
    "name": "ipython",
    "version": 3
   },
   "file_extension": ".py",
   "mimetype": "text/x-python",
   "name": "python",
   "nbconvert_exporter": "python",
   "pygments_lexer": "ipython3",
   "version": "3.11.7"
  }
 },
 "nbformat": 4,
 "nbformat_minor": 5
}
