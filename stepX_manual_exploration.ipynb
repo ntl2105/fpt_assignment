{
 "cells": [
  {
   "cell_type": "code",
   "execution_count": 4,
   "id": "65daf0be-f6cf-43c2-ba71-2ef28c87c158",
   "metadata": {
    "execution": {
     "iopub.execute_input": "2024-08-08T20:49:14.475560Z",
     "iopub.status.busy": "2024-08-08T20:49:14.474875Z",
     "iopub.status.idle": "2024-08-08T20:49:14.485525Z",
     "shell.execute_reply": "2024-08-08T20:49:14.483792Z",
     "shell.execute_reply.started": "2024-08-08T20:49:14.475510Z"
    }
   },
   "outputs": [],
   "source": [
    "import pandas as pd"
   ]
  },
  {
   "cell_type": "code",
   "execution_count": 2,
   "id": "ec8c9820-da7d-4ad5-8546-4edad345a0a9",
   "metadata": {
    "execution": {
     "iopub.execute_input": "2024-08-08T07:44:22.982189Z",
     "iopub.status.busy": "2024-08-08T07:44:22.981245Z",
     "iopub.status.idle": "2024-08-08T07:44:22.991765Z",
     "shell.execute_reply": "2024-08-08T07:44:22.990917Z",
     "shell.execute_reply.started": "2024-08-08T07:44:22.982147Z"
    }
   },
   "outputs": [],
   "source": [
    "def load_data():\n",
    "    # Load the ground truth and predicted data\n",
    "    gt_df = pd.read_json(\"fine_tuning_data_v2_detailedInstructions_gpt3format/test.jsonl\", lines=True)\n",
    "    pred_df = pd.read_csv(\"fine_tuning_data_v2_detailedInstructions_gpt3format/results.csv\")\n",
    "\n",
    "    # Extracting assistant messages from ground truth\n",
    "    gt_df['ground_truth'] = gt_df['messages'].apply(lambda x: json.loads(x[-1]['content']) if x[-1]['role'] == 'assistant' else None)\n",
    "\n",
    "    # Joining dataframes for comparison\n",
    "    eval_df = gt_df.join(pred_df.set_index('index'), on='index', how='inner', rsuffix='_pred')\n",
    "    return eval_df"
   ]
  },
  {
   "cell_type": "code",
   "execution_count": 3,
   "id": "635294a3-8287-4685-96ed-5929b262b70e",
   "metadata": {
    "execution": {
     "iopub.execute_input": "2024-08-08T07:44:34.299025Z",
     "iopub.status.busy": "2024-08-08T07:44:34.298142Z",
     "iopub.status.idle": "2024-08-08T07:44:34.323486Z",
     "shell.execute_reply": "2024-08-08T07:44:34.323049Z",
     "shell.execute_reply.started": "2024-08-08T07:44:34.298958Z"
    }
   },
   "outputs": [],
   "source": [
    "gt_df = pd.read_json(\"fine_tuning_data_v2_detailedInstructions_gpt3format/test.jsonl\", lines=True)\n",
    "pred_df = pd.read_csv(\"fine_tuning_data_v2_detailedInstructions_gpt3format/results.csv\")"
   ]
  },
  {
   "cell_type": "code",
   "execution_count": 5,
   "id": "af9495d9-1143-4f95-b92e-e2f922cb93f1",
   "metadata": {
    "execution": {
     "iopub.execute_input": "2024-08-08T07:44:51.258824Z",
     "iopub.status.busy": "2024-08-08T07:44:51.257868Z",
     "iopub.status.idle": "2024-08-08T07:44:51.271843Z",
     "shell.execute_reply": "2024-08-08T07:44:51.269857Z",
     "shell.execute_reply.started": "2024-08-08T07:44:51.258759Z"
    }
   },
   "outputs": [
    {
     "data": {
      "text/plain": [
       "((120, 1), (120, 3))"
      ]
     },
     "execution_count": 5,
     "metadata": {},
     "output_type": "execute_result"
    }
   ],
   "source": [
    "gt_df.shape, pred_df.shape"
   ]
  },
  {
   "cell_type": "code",
   "execution_count": 8,
   "id": "10d89376-c002-44df-aabf-03de8e58ebc7",
   "metadata": {
    "execution": {
     "iopub.execute_input": "2024-08-08T07:45:27.051422Z",
     "iopub.status.busy": "2024-08-08T07:45:27.050436Z",
     "iopub.status.idle": "2024-08-08T07:45:27.070805Z",
     "shell.execute_reply": "2024-08-08T07:45:27.070205Z",
     "shell.execute_reply.started": "2024-08-08T07:45:27.051353Z"
    }
   },
   "outputs": [
    {
     "data": {
      "text/html": [
       "<div>\n",
       "<style scoped>\n",
       "    .dataframe tbody tr th:only-of-type {\n",
       "        vertical-align: middle;\n",
       "    }\n",
       "\n",
       "    .dataframe tbody tr th {\n",
       "        vertical-align: top;\n",
       "    }\n",
       "\n",
       "    .dataframe thead th {\n",
       "        text-align: right;\n",
       "    }\n",
       "</style>\n",
       "<table border=\"1\" class=\"dataframe\">\n",
       "  <thead>\n",
       "    <tr style=\"text-align: right;\">\n",
       "      <th></th>\n",
       "      <th>index</th>\n",
       "      <th>text</th>\n",
       "      <th>model</th>\n",
       "    </tr>\n",
       "  </thead>\n",
       "  <tbody>\n",
       "    <tr>\n",
       "      <th>0</th>\n",
       "      <td>0</td>\n",
       "      <td>{\"Number of Bedrooms\": \"2\", \"Type of Property\"...</td>\n",
       "      <td>ft:gpt-3.5-turbo-0125:personal::9tg6PAnc</td>\n",
       "    </tr>\n",
       "    <tr>\n",
       "      <th>1</th>\n",
       "      <td>1</td>\n",
       "      <td>{\"Number of Bedrooms\": \"1\", \"Type of Property\"...</td>\n",
       "      <td>ft:gpt-3.5-turbo-0125:personal::9tg6PAnc</td>\n",
       "    </tr>\n",
       "    <tr>\n",
       "      <th>2</th>\n",
       "      <td>2</td>\n",
       "      <td>{\"Number of Bedrooms\": \"1\", \"Type of Property\"...</td>\n",
       "      <td>ft:gpt-3.5-turbo-0125:personal::9tg6PAnc</td>\n",
       "    </tr>\n",
       "    <tr>\n",
       "      <th>3</th>\n",
       "      <td>3</td>\n",
       "      <td>{\"Number of Bedrooms\": \"2\", \"Type of Property\"...</td>\n",
       "      <td>ft:gpt-3.5-turbo-0125:personal::9tg6PAnc</td>\n",
       "    </tr>\n",
       "    <tr>\n",
       "      <th>4</th>\n",
       "      <td>4</td>\n",
       "      <td>{\"Number of Bedrooms\": \"1\", \"Type of Property\"...</td>\n",
       "      <td>ft:gpt-3.5-turbo-0125:personal::9tg6PAnc</td>\n",
       "    </tr>\n",
       "    <tr>\n",
       "      <th>...</th>\n",
       "      <td>...</td>\n",
       "      <td>...</td>\n",
       "      <td>...</td>\n",
       "    </tr>\n",
       "    <tr>\n",
       "      <th>115</th>\n",
       "      <td>115</td>\n",
       "      <td>{\"Number of Bedrooms\": \"2\", \"Type of Property\"...</td>\n",
       "      <td>ft:gpt-3.5-turbo-0125:personal::9tg6PAnc</td>\n",
       "    </tr>\n",
       "    <tr>\n",
       "      <th>116</th>\n",
       "      <td>116</td>\n",
       "      <td>{\"Number of Bedrooms\": \"1\", \"Type of Property\"...</td>\n",
       "      <td>ft:gpt-3.5-turbo-0125:personal::9tg6PAnc</td>\n",
       "    </tr>\n",
       "    <tr>\n",
       "      <th>117</th>\n",
       "      <td>117</td>\n",
       "      <td>{\"Number of Bedrooms\": \"1\", \"Type of Property\"...</td>\n",
       "      <td>ft:gpt-3.5-turbo-0125:personal::9tg6PAnc</td>\n",
       "    </tr>\n",
       "    <tr>\n",
       "      <th>118</th>\n",
       "      <td>118</td>\n",
       "      <td>{\"Number of Bedrooms\": \"1\", \"Type of Property\"...</td>\n",
       "      <td>ft:gpt-3.5-turbo-0125:personal::9tg6PAnc</td>\n",
       "    </tr>\n",
       "    <tr>\n",
       "      <th>119</th>\n",
       "      <td>119</td>\n",
       "      <td>{\"Number of Bedrooms\": \"2\", \"Type of Property\"...</td>\n",
       "      <td>ft:gpt-3.5-turbo-0125:personal::9tg6PAnc</td>\n",
       "    </tr>\n",
       "  </tbody>\n",
       "</table>\n",
       "<p>120 rows × 3 columns</p>\n",
       "</div>"
      ],
      "text/plain": [
       "     index                                               text  \\\n",
       "0        0  {\"Number of Bedrooms\": \"2\", \"Type of Property\"...   \n",
       "1        1  {\"Number of Bedrooms\": \"1\", \"Type of Property\"...   \n",
       "2        2  {\"Number of Bedrooms\": \"1\", \"Type of Property\"...   \n",
       "3        3  {\"Number of Bedrooms\": \"2\", \"Type of Property\"...   \n",
       "4        4  {\"Number of Bedrooms\": \"1\", \"Type of Property\"...   \n",
       "..     ...                                                ...   \n",
       "115    115  {\"Number of Bedrooms\": \"2\", \"Type of Property\"...   \n",
       "116    116  {\"Number of Bedrooms\": \"1\", \"Type of Property\"...   \n",
       "117    117  {\"Number of Bedrooms\": \"1\", \"Type of Property\"...   \n",
       "118    118  {\"Number of Bedrooms\": \"1\", \"Type of Property\"...   \n",
       "119    119  {\"Number of Bedrooms\": \"2\", \"Type of Property\"...   \n",
       "\n",
       "                                        model  \n",
       "0    ft:gpt-3.5-turbo-0125:personal::9tg6PAnc  \n",
       "1    ft:gpt-3.5-turbo-0125:personal::9tg6PAnc  \n",
       "2    ft:gpt-3.5-turbo-0125:personal::9tg6PAnc  \n",
       "3    ft:gpt-3.5-turbo-0125:personal::9tg6PAnc  \n",
       "4    ft:gpt-3.5-turbo-0125:personal::9tg6PAnc  \n",
       "..                                        ...  \n",
       "115  ft:gpt-3.5-turbo-0125:personal::9tg6PAnc  \n",
       "116  ft:gpt-3.5-turbo-0125:personal::9tg6PAnc  \n",
       "117  ft:gpt-3.5-turbo-0125:personal::9tg6PAnc  \n",
       "118  ft:gpt-3.5-turbo-0125:personal::9tg6PAnc  \n",
       "119  ft:gpt-3.5-turbo-0125:personal::9tg6PAnc  \n",
       "\n",
       "[120 rows x 3 columns]"
      ]
     },
     "execution_count": 8,
     "metadata": {},
     "output_type": "execute_result"
    }
   ],
   "source": [
    "pred_df"
   ]
  },
  {
   "cell_type": "code",
   "execution_count": 22,
   "id": "f063a603-fe5f-4973-88b0-cc5b307c519e",
   "metadata": {
    "execution": {
     "iopub.execute_input": "2024-08-08T08:09:39.748499Z",
     "iopub.status.busy": "2024-08-08T08:09:39.747641Z",
     "iopub.status.idle": "2024-08-08T08:09:39.773971Z",
     "shell.execute_reply": "2024-08-08T08:09:39.773351Z",
     "shell.execute_reply.started": "2024-08-08T08:09:39.748433Z"
    }
   },
   "outputs": [],
   "source": [
    "# Expanding the 'attributes' column into separate columns\n",
    "messages_df = gt_df['messages'].apply(pd.Series)\n",
    "messages_df.columns = ['system', 'user', 'assistant']\n",
    "messages_df['gt_text'] = messages_df['assistant'].apply(lambda x: x['content'])\n",
    "\n",
    "eval_df = pd.concat([messages_df, pred_df],axis=1)\n",
    "eval_df = eval_df.rename(columns={'text': 'gen_text'})"
   ]
  },
  {
   "cell_type": "code",
   "execution_count": 23,
   "id": "6e7cf454-73df-4bf1-9439-0626da3ec8a2",
   "metadata": {
    "execution": {
     "iopub.execute_input": "2024-08-08T08:14:49.360021Z",
     "iopub.status.busy": "2024-08-08T08:14:49.358595Z",
     "iopub.status.idle": "2024-08-08T08:14:49.386286Z",
     "shell.execute_reply": "2024-08-08T08:14:49.385733Z",
     "shell.execute_reply.started": "2024-08-08T08:14:49.359943Z"
    }
   },
   "outputs": [
    {
     "data": {
      "text/html": [
       "<div>\n",
       "<style scoped>\n",
       "    .dataframe tbody tr th:only-of-type {\n",
       "        vertical-align: middle;\n",
       "    }\n",
       "\n",
       "    .dataframe tbody tr th {\n",
       "        vertical-align: top;\n",
       "    }\n",
       "\n",
       "    .dataframe thead th {\n",
       "        text-align: right;\n",
       "    }\n",
       "</style>\n",
       "<table border=\"1\" class=\"dataframe\">\n",
       "  <thead>\n",
       "    <tr style=\"text-align: right;\">\n",
       "      <th></th>\n",
       "      <th>system</th>\n",
       "      <th>user</th>\n",
       "      <th>assistant</th>\n",
       "      <th>gt_text</th>\n",
       "      <th>index</th>\n",
       "      <th>gen_text</th>\n",
       "      <th>model</th>\n",
       "    </tr>\n",
       "  </thead>\n",
       "  <tbody>\n",
       "    <tr>\n",
       "      <th>0</th>\n",
       "      <td>{'role': 'system', 'content': '\n",
       "Consider the A...</td>\n",
       "      <td>{'role': 'user', 'content': 'Gorgeous 2 bdrm i...</td>\n",
       "      <td>{'role': 'assistant', 'content': '{\"Number of ...</td>\n",
       "      <td>{\"Number of Bedrooms\": \"2\", \"Type of Property\"...</td>\n",
       "      <td>0</td>\n",
       "      <td>{\"Number of Bedrooms\": \"2\", \"Type of Property\"...</td>\n",
       "      <td>ft:gpt-3.5-turbo-0125:personal::9tg6PAnc</td>\n",
       "    </tr>\n",
       "    <tr>\n",
       "      <th>1</th>\n",
       "      <td>{'role': 'system', 'content': '\n",
       "Consider the A...</td>\n",
       "      <td>{'role': 'user', 'content': 'Wonderful B&amp;B Sty...</td>\n",
       "      <td>{'role': 'assistant', 'content': '{\"Number of ...</td>\n",
       "      <td>{\"Number of Bedrooms\": \"1\", \"Type of Property\"...</td>\n",
       "      <td>1</td>\n",
       "      <td>{\"Number of Bedrooms\": \"1\", \"Type of Property\"...</td>\n",
       "      <td>ft:gpt-3.5-turbo-0125:personal::9tg6PAnc</td>\n",
       "    </tr>\n",
       "    <tr>\n",
       "      <th>2</th>\n",
       "      <td>{'role': 'system', 'content': '\n",
       "Consider the A...</td>\n",
       "      <td>{'role': 'user', 'content': 'Heavy Sun, Quiet,...</td>\n",
       "      <td>{'role': 'assistant', 'content': '{\"Number of ...</td>\n",
       "      <td>{\"Number of Bedrooms\": \"1\", \"Type of Property\"...</td>\n",
       "      <td>2</td>\n",
       "      <td>{\"Number of Bedrooms\": \"1\", \"Type of Property\"...</td>\n",
       "      <td>ft:gpt-3.5-turbo-0125:personal::9tg6PAnc</td>\n",
       "    </tr>\n",
       "    <tr>\n",
       "      <th>3</th>\n",
       "      <td>{'role': 'system', 'content': '\n",
       "Consider the A...</td>\n",
       "      <td>{'role': 'user', 'content': 'Brooklyn Amazing ...</td>\n",
       "      <td>{'role': 'assistant', 'content': '{\"Number of ...</td>\n",
       "      <td>{\"Number of Bedrooms\": \"2\", \"Type of Property\"...</td>\n",
       "      <td>3</td>\n",
       "      <td>{\"Number of Bedrooms\": \"2\", \"Type of Property\"...</td>\n",
       "      <td>ft:gpt-3.5-turbo-0125:personal::9tg6PAnc</td>\n",
       "    </tr>\n",
       "    <tr>\n",
       "      <th>4</th>\n",
       "      <td>{'role': 'system', 'content': '\n",
       "Consider the A...</td>\n",
       "      <td>{'role': 'user', 'content': 'Spacious Greenwic...</td>\n",
       "      <td>{'role': 'assistant', 'content': '{\"Number of ...</td>\n",
       "      <td>{\"Number of Bedrooms\": \"1\", \"Type of Property\"...</td>\n",
       "      <td>4</td>\n",
       "      <td>{\"Number of Bedrooms\": \"1\", \"Type of Property\"...</td>\n",
       "      <td>ft:gpt-3.5-turbo-0125:personal::9tg6PAnc</td>\n",
       "    </tr>\n",
       "    <tr>\n",
       "      <th>...</th>\n",
       "      <td>...</td>\n",
       "      <td>...</td>\n",
       "      <td>...</td>\n",
       "      <td>...</td>\n",
       "      <td>...</td>\n",
       "      <td>...</td>\n",
       "      <td>...</td>\n",
       "    </tr>\n",
       "    <tr>\n",
       "      <th>115</th>\n",
       "      <td>{'role': 'system', 'content': '\n",
       "Consider the A...</td>\n",
       "      <td>{'role': 'user', 'content': '2 Bedroom Gem - P...</td>\n",
       "      <td>{'role': 'assistant', 'content': '{\"Number of ...</td>\n",
       "      <td>{\"Number of Bedrooms\": \"2\", \"Type of Property\"...</td>\n",
       "      <td>115</td>\n",
       "      <td>{\"Number of Bedrooms\": \"2\", \"Type of Property\"...</td>\n",
       "      <td>ft:gpt-3.5-turbo-0125:personal::9tg6PAnc</td>\n",
       "    </tr>\n",
       "    <tr>\n",
       "      <th>116</th>\n",
       "      <td>{'role': 'system', 'content': '\n",
       "Consider the A...</td>\n",
       "      <td>{'role': 'user', 'content': 'Gorgeous Private ...</td>\n",
       "      <td>{'role': 'assistant', 'content': '{\"Number of ...</td>\n",
       "      <td>{\"Number of Bedrooms\": \"1\", \"Type of Property\"...</td>\n",
       "      <td>116</td>\n",
       "      <td>{\"Number of Bedrooms\": \"1\", \"Type of Property\"...</td>\n",
       "      <td>ft:gpt-3.5-turbo-0125:personal::9tg6PAnc</td>\n",
       "    </tr>\n",
       "    <tr>\n",
       "      <th>117</th>\n",
       "      <td>{'role': 'system', 'content': '\n",
       "Consider the A...</td>\n",
       "      <td>{'role': 'user', 'content': 'room with very ni...</td>\n",
       "      <td>{'role': 'assistant', 'content': '{\"Number of ...</td>\n",
       "      <td>{\"Number of Bedrooms\": \"1\", \"Type of Property\"...</td>\n",
       "      <td>117</td>\n",
       "      <td>{\"Number of Bedrooms\": \"1\", \"Type of Property\"...</td>\n",
       "      <td>ft:gpt-3.5-turbo-0125:personal::9tg6PAnc</td>\n",
       "    </tr>\n",
       "    <tr>\n",
       "      <th>118</th>\n",
       "      <td>{'role': 'system', 'content': '\n",
       "Consider the A...</td>\n",
       "      <td>{'role': 'user', 'content': 'Clean&amp;Serene in S...</td>\n",
       "      <td>{'role': 'assistant', 'content': '{\"Number of ...</td>\n",
       "      <td>{\"Number of Bedrooms\": \"1\", \"Type of Property\"...</td>\n",
       "      <td>118</td>\n",
       "      <td>{\"Number of Bedrooms\": \"1\", \"Type of Property\"...</td>\n",
       "      <td>ft:gpt-3.5-turbo-0125:personal::9tg6PAnc</td>\n",
       "    </tr>\n",
       "    <tr>\n",
       "      <th>119</th>\n",
       "      <td>{'role': 'system', 'content': '\n",
       "Consider the A...</td>\n",
       "      <td>{'role': 'user', 'content': 'Gorgeous Chelsea ...</td>\n",
       "      <td>{'role': 'assistant', 'content': '{\"Number of ...</td>\n",
       "      <td>{\"Number of Bedrooms\": \"2\", \"Type of Property\"...</td>\n",
       "      <td>119</td>\n",
       "      <td>{\"Number of Bedrooms\": \"2\", \"Type of Property\"...</td>\n",
       "      <td>ft:gpt-3.5-turbo-0125:personal::9tg6PAnc</td>\n",
       "    </tr>\n",
       "  </tbody>\n",
       "</table>\n",
       "<p>120 rows × 7 columns</p>\n",
       "</div>"
      ],
      "text/plain": [
       "                                                system  \\\n",
       "0    {'role': 'system', 'content': '\n",
       "Consider the A...   \n",
       "1    {'role': 'system', 'content': '\n",
       "Consider the A...   \n",
       "2    {'role': 'system', 'content': '\n",
       "Consider the A...   \n",
       "3    {'role': 'system', 'content': '\n",
       "Consider the A...   \n",
       "4    {'role': 'system', 'content': '\n",
       "Consider the A...   \n",
       "..                                                 ...   \n",
       "115  {'role': 'system', 'content': '\n",
       "Consider the A...   \n",
       "116  {'role': 'system', 'content': '\n",
       "Consider the A...   \n",
       "117  {'role': 'system', 'content': '\n",
       "Consider the A...   \n",
       "118  {'role': 'system', 'content': '\n",
       "Consider the A...   \n",
       "119  {'role': 'system', 'content': '\n",
       "Consider the A...   \n",
       "\n",
       "                                                  user  \\\n",
       "0    {'role': 'user', 'content': 'Gorgeous 2 bdrm i...   \n",
       "1    {'role': 'user', 'content': 'Wonderful B&B Sty...   \n",
       "2    {'role': 'user', 'content': 'Heavy Sun, Quiet,...   \n",
       "3    {'role': 'user', 'content': 'Brooklyn Amazing ...   \n",
       "4    {'role': 'user', 'content': 'Spacious Greenwic...   \n",
       "..                                                 ...   \n",
       "115  {'role': 'user', 'content': '2 Bedroom Gem - P...   \n",
       "116  {'role': 'user', 'content': 'Gorgeous Private ...   \n",
       "117  {'role': 'user', 'content': 'room with very ni...   \n",
       "118  {'role': 'user', 'content': 'Clean&Serene in S...   \n",
       "119  {'role': 'user', 'content': 'Gorgeous Chelsea ...   \n",
       "\n",
       "                                             assistant  \\\n",
       "0    {'role': 'assistant', 'content': '{\"Number of ...   \n",
       "1    {'role': 'assistant', 'content': '{\"Number of ...   \n",
       "2    {'role': 'assistant', 'content': '{\"Number of ...   \n",
       "3    {'role': 'assistant', 'content': '{\"Number of ...   \n",
       "4    {'role': 'assistant', 'content': '{\"Number of ...   \n",
       "..                                                 ...   \n",
       "115  {'role': 'assistant', 'content': '{\"Number of ...   \n",
       "116  {'role': 'assistant', 'content': '{\"Number of ...   \n",
       "117  {'role': 'assistant', 'content': '{\"Number of ...   \n",
       "118  {'role': 'assistant', 'content': '{\"Number of ...   \n",
       "119  {'role': 'assistant', 'content': '{\"Number of ...   \n",
       "\n",
       "                                               gt_text  index  \\\n",
       "0    {\"Number of Bedrooms\": \"2\", \"Type of Property\"...      0   \n",
       "1    {\"Number of Bedrooms\": \"1\", \"Type of Property\"...      1   \n",
       "2    {\"Number of Bedrooms\": \"1\", \"Type of Property\"...      2   \n",
       "3    {\"Number of Bedrooms\": \"2\", \"Type of Property\"...      3   \n",
       "4    {\"Number of Bedrooms\": \"1\", \"Type of Property\"...      4   \n",
       "..                                                 ...    ...   \n",
       "115  {\"Number of Bedrooms\": \"2\", \"Type of Property\"...    115   \n",
       "116  {\"Number of Bedrooms\": \"1\", \"Type of Property\"...    116   \n",
       "117  {\"Number of Bedrooms\": \"1\", \"Type of Property\"...    117   \n",
       "118  {\"Number of Bedrooms\": \"1\", \"Type of Property\"...    118   \n",
       "119  {\"Number of Bedrooms\": \"2\", \"Type of Property\"...    119   \n",
       "\n",
       "                                              gen_text  \\\n",
       "0    {\"Number of Bedrooms\": \"2\", \"Type of Property\"...   \n",
       "1    {\"Number of Bedrooms\": \"1\", \"Type of Property\"...   \n",
       "2    {\"Number of Bedrooms\": \"1\", \"Type of Property\"...   \n",
       "3    {\"Number of Bedrooms\": \"2\", \"Type of Property\"...   \n",
       "4    {\"Number of Bedrooms\": \"1\", \"Type of Property\"...   \n",
       "..                                                 ...   \n",
       "115  {\"Number of Bedrooms\": \"2\", \"Type of Property\"...   \n",
       "116  {\"Number of Bedrooms\": \"1\", \"Type of Property\"...   \n",
       "117  {\"Number of Bedrooms\": \"1\", \"Type of Property\"...   \n",
       "118  {\"Number of Bedrooms\": \"1\", \"Type of Property\"...   \n",
       "119  {\"Number of Bedrooms\": \"2\", \"Type of Property\"...   \n",
       "\n",
       "                                        model  \n",
       "0    ft:gpt-3.5-turbo-0125:personal::9tg6PAnc  \n",
       "1    ft:gpt-3.5-turbo-0125:personal::9tg6PAnc  \n",
       "2    ft:gpt-3.5-turbo-0125:personal::9tg6PAnc  \n",
       "3    ft:gpt-3.5-turbo-0125:personal::9tg6PAnc  \n",
       "4    ft:gpt-3.5-turbo-0125:personal::9tg6PAnc  \n",
       "..                                        ...  \n",
       "115  ft:gpt-3.5-turbo-0125:personal::9tg6PAnc  \n",
       "116  ft:gpt-3.5-turbo-0125:personal::9tg6PAnc  \n",
       "117  ft:gpt-3.5-turbo-0125:personal::9tg6PAnc  \n",
       "118  ft:gpt-3.5-turbo-0125:personal::9tg6PAnc  \n",
       "119  ft:gpt-3.5-turbo-0125:personal::9tg6PAnc  \n",
       "\n",
       "[120 rows x 7 columns]"
      ]
     },
     "execution_count": 23,
     "metadata": {},
     "output_type": "execute_result"
    }
   ],
   "source": [
    "eval_df"
   ]
  },
  {
   "cell_type": "code",
   "execution_count": 19,
   "id": "8e4bcb6a-aa37-4f96-b0d3-3c3faf6744a5",
   "metadata": {
    "execution": {
     "iopub.execute_input": "2024-08-08T08:04:11.493417Z",
     "iopub.status.busy": "2024-08-08T08:04:11.491233Z",
     "iopub.status.idle": "2024-08-08T08:04:11.879532Z",
     "shell.execute_reply": "2024-08-08T08:04:11.878990Z",
     "shell.execute_reply.started": "2024-08-08T08:04:11.493310Z"
    }
   },
   "outputs": [],
   "source": [
    "pd.concat([messages_df, pred_df],axis=1).to_clipboard(index=False)"
   ]
  },
  {
   "cell_type": "code",
   "execution_count": 38,
   "id": "ab017bc4-3a30-48b9-bb0f-2e158704666a",
   "metadata": {
    "execution": {
     "iopub.execute_input": "2024-08-08T09:22:43.192615Z",
     "iopub.status.busy": "2024-08-08T09:22:43.191202Z",
     "iopub.status.idle": "2024-08-08T09:22:43.206088Z",
     "shell.execute_reply": "2024-08-08T09:22:43.205363Z",
     "shell.execute_reply.started": "2024-08-08T09:22:43.192545Z"
    }
   },
   "outputs": [
    {
     "name": "stdout",
     "output_type": "stream",
     "text": [
      "False\n"
     ]
    }
   ],
   "source": [
    "def all_required_present(text, field_name_mappings):\n",
    "        # data = json.loads(text) if text else {}\n",
    "        data = text\n",
    "        # Check if the keys in data contain any substring from the alternatives list\n",
    "        return all(\n",
    "            any(alt in key for key in data for alt in alternatives)\n",
    "            for field, alternatives in field_name_mappings.items()\n",
    "        )\n",
    "    \n",
    "field_name_mappings = {\n",
    "    'Number of Bedrooms': ['Bedrooms', 'Bedroom Count'],\n",
    "    'Type of Property': ['Property Type', 'Type'],\n",
    "    'Is any space shared?': ['Shared Space'],\n",
    "    'Overall vibes/atmosphere': ['Vibe', 'Atmosphere']\n",
    "}\n",
    "\n",
    "# Example JSON string\n",
    "json_text = \"\"\"{'Number of Bedrooms': 'Not specified', 'Type of Property': 'House', 'Shared Space Indicator': False, 'Overall Vibe or Atmosphere': 'HISTORIC'}\"\"\"\n",
    "\n",
    "# Check if all required fields are present through any of their alternative names\n",
    "fields_present = all_required_present(json_text, field_name_mappings)\n",
    "print(fields_present)  # Output should be True if the function is correct\n"
   ]
  },
  {
   "cell_type": "code",
   "execution_count": 40,
   "id": "f7d9330f-1467-4ec1-b250-52cecb42e6fb",
   "metadata": {
    "execution": {
     "iopub.execute_input": "2024-08-08T13:31:40.629676Z",
     "iopub.status.busy": "2024-08-08T13:31:40.629020Z",
     "iopub.status.idle": "2024-08-08T13:31:40.655625Z",
     "shell.execute_reply": "2024-08-08T13:31:40.655144Z",
     "shell.execute_reply.started": "2024-08-08T13:31:40.629637Z"
    }
   },
   "outputs": [],
   "source": [
    "# For evaluation, I need to load the ground truth, load the generated text. \n",
    "# Process ground truth \n",
    "# Process generated text \n",
    "\n",
    "# Conduct evaluation \n",
    "# Questions to answer: \n",
    "# 1) Formatting, how often did the model return the correct json format \n",
    "# 2) Relevancy of returned answers: \n",
    "# how often was each of the expected field returned? a % for each attribute \n",
    "# did the output contained information not asked for?\n",
    "# 3) Evaluation of required info: accuracy, precision, recall, f1 for each of the attributes \n",
    "\n",
    "import pandas as pd\n",
    "import json\n",
    "from sklearn.metrics import accuracy_score, precision_recall_fscore_support\n",
    "import logging\n",
    "# Configure logging\n",
    "logging.basicConfig(level=logging.INFO, format='%(asctime)s - %(levelname)s - %(message)s')\n",
    "\n",
    "def load_data(path_to_test, path_to_result):\n",
    "    # Load the ground truth and predicted data\n",
    "    gt_df = pd.read_json(path_to_test, lines=True)\n",
    "    pred_df = pd.read_csv(path_to_result)\n",
    "\n",
    "    # Expanding the 'attributes' column into separate columns\n",
    "    messages_df = gt_df['messages'].apply(pd.Series)\n",
    "    messages_df.columns = ['system', 'user', 'assistant']\n",
    "    messages_df['gt_text'] = messages_df['assistant'].apply(lambda x: x['content'])\n",
    "\n",
    "    eval_df = pd.concat([messages_df, pred_df],axis=1)\n",
    "    eval_df = eval_df.rename(columns={'text': 'gen_text'})\n",
    "\n",
    "    return eval_df\n",
    "\n",
    "def evaluate_json_format(eval_df):\n",
    "    # Check valid JSON format\n",
    "    eval_df['valid_json'] = eval_df['gen_text'].apply(lambda x: isinstance(json.loads(x), dict) if x else False)\n",
    "    format_accuracy = eval_df['valid_json'].mean()\n",
    "    return format_accuracy\n",
    "\n",
    "def evaluate_fields_presence(eval_df, field_name_mappings):\n",
    "    def all_required_present(text):\n",
    "        data = json.loads(text) if text else {}\n",
    "        presence_dict = {}\n",
    "        # Check if the keys in data contain any substring from the alternatives list for each field\n",
    "        for field, alternatives in field_name_mappings.items():\n",
    "            # Check if any alternative is a substring of any key in the data\n",
    "            presence_dict[field] = any(\n",
    "                alt in key for key in data for alt in alternatives\n",
    "            )\n",
    "        return presence_dict\n",
    "        \n",
    "    # Apply the function to each row in 'gen_text' and expand the dictionaries into separate columns\n",
    "    fields_present_df = pd.DataFrame(eval_df['gen_text'].apply(all_required_present).tolist())\n",
    "\n",
    "    # Calculate the mean presence for each field across all rows, converting to percentage\n",
    "    field_presence_percentages = fields_present_df.mean() * 100\n",
    "\n",
    "    return field_presence_percentages\n",
    "\n",
    "def evaluate_unwanted_fields(eval_df, field_name_mappings):\n",
    "    all_acceptable_fields = set.union(*field_name_mappings.values())\n",
    "\n",
    "    def find_unwanted_fields(text):\n",
    "        data_keys = set(json.loads(text).keys()) if text else set()\n",
    "        return data_keys - all_acceptable_fields\n",
    "    \n",
    "    eval_df['unwanted_fields'] = eval_df['gen_text'].apply(find_unwanted_fields)\n",
    "    return (eval_df['unwanted_fields'].apply(bool).mean())\n",
    "\n",
    "def standardize_field_names(data, field_name_mappings):\n",
    "    \"\"\"\n",
    "    Standardizes field names in the dictionary based on the presence of keywords in the field_name_mappings.\n",
    "    \"\"\"\n",
    "    standardized_data = {}\n",
    "    for key, value in data.items():\n",
    "        standardized_key = next((standard_field for standard_field, alternatives in field_name_mappings.items() if any(alt in key for alt in alternatives)), key)\n",
    "        standardized_data[standardized_key] = value\n",
    "    return standardized_data\n",
    "\n",
    "def evaluate_metrics(eval_df, field_name_mappings):\n",
    "    metrics = {}\n",
    "    \n",
    "    # Standardize field names in the JSON text\n",
    "    eval_df['gt_text'] = eval_df['gt_text'].apply(lambda x: standardize_field_names(json.loads(x), field_name_mappings) if isinstance(x, str) else x)\n",
    "    eval_df['gen_text'] = eval_df['gen_text'].apply(lambda x: standardize_field_names(json.loads(x), field_name_mappings) if isinstance(x, str) else x)\n",
    "    \n",
    "    for field in field_name_mappings:\n",
    "        gt_values = eval_df['gt_text'].apply(lambda x: str.lower(str(x.get(field, 'Field Not Found'))))\n",
    "        pred_values = eval_df['gen_text'].apply(lambda x: str.lower(str(x.get(field, 'Field Not Found'))))\n",
    "\n",
    "        accuracy = accuracy_score(gt_values, pred_values)\n",
    "        precision, recall, f1, _ = precision_recall_fscore_support(gt_values, pred_values, average='macro', zero_division=0)\n",
    "        \n",
    "        metrics[field] = {\n",
    "            'accuracy': accuracy,\n",
    "            'precision': precision,\n",
    "            'recall': recall,\n",
    "            'f1_score': f1\n",
    "        }\n",
    "    return metrics\n",
    "\n",
    "def main():\n",
    "\n",
    "    directory = 'fine_tuning_data_v2_detailedInstructions_gpt3format'\n",
    "    path_to_test = f\"{directory}/test.jsonl\"\n",
    "    path_to_result = f\"{directory}/results_3point5_ft.csv\"\n",
    "    # path_to_result = f\"{directory}/results_3point5_og.csv\"\n",
    "\n",
    "    eval_df = load_data(\n",
    "        path_to_test=path_to_test, \n",
    "        path_to_result=path_to_result\n",
    "        )\n",
    "    format_accuracy = evaluate_json_format(eval_df)\n",
    "    \n",
    "    \n",
    "    field_name_mappings = {\n",
    "    'Number of Bedrooms': {'Bedrooms', 'Number of Beds', 'Bedroom Count'},\n",
    "    'Type of Property': {'Property', 'Housing Type'},\n",
    "    'Is any space shared?': {'space', 'Space', 'Shared'},\n",
    "    'Overall vibes/atmosphere': {'Vibe', 'Atmosphere', 'vibe', 'atmosphere'}  \n",
    "    }\n",
    "\n",
    "    # Evaluate field presence and unwanted fields\n",
    "    format_accuracy = evaluate_json_format(eval_df)\n",
    "    fields_accuracy = evaluate_fields_presence(eval_df, field_name_mappings)\n",
    "    \n",
    "    # unwanted_fields_accuracy = evaluate_unwanted_fields(eval_df, field_name_mappings)\n",
    "    metrics = evaluate_metrics(eval_df, field_name_mappings)\n",
    "\n",
    "    print(f\"Format Accuracy: {format_accuracy:.2%}\")\n",
    "    for field, accuracy in fields_accuracy.items():\n",
    "        print(f\"{field} Presence Accuracy: {accuracy:.2f}%\")\n",
    "    \n",
    "    metrics = evaluate_metrics(eval_df, field_name_mappings)\n",
    "    for field, scores in metrics.items():\n",
    "        print(f\"{field}:\")\n",
    "        print(f\"  Accuracy: {scores['accuracy']:.2%}\")\n",
    "        print(f\"  Precision: {scores['precision']:.2%}\")\n",
    "        print(f\"  Recall: {scores['recall']:.2%}\")\n",
    "        print(f\"  F1 Score: {scores['f1_score']:.2%}\")"
   ]
  },
  {
   "cell_type": "code",
   "execution_count": null,
   "id": "f55cd585-001b-41e2-bf7f-30ab14150bc2",
   "metadata": {},
   "outputs": [],
   "source": [
    "def load_data(path_to_test, path_to_result):\n",
    "    # Load the ground truth and predicted data\n",
    "    gt_df = pd.read_json(path_to_test, lines=True)\n",
    "    pred_df = pd.read_csv(path_to_result)\n",
    "\n",
    "    # Expanding the 'attributes' column into separate columns\n",
    "    messages_df = gt_df['messages'].apply(pd.Series)\n",
    "    messages_df.columns = ['system', 'user', 'assistant']\n",
    "    messages_df['gt_text'] = messages_df['assistant'].apply(lambda x: x['content'])\n",
    "\n",
    "    eval_df = pd.concat([messages_df, pred_df],axis=1)\n",
    "    eval_df = eval_df.rename(columns={'text': 'gen_text'})\n",
    "\n",
    "    return eval_df"
   ]
  },
  {
   "cell_type": "code",
   "execution_count": 5,
   "id": "552da06e-a247-4121-bd27-03c1d3990b83",
   "metadata": {
    "execution": {
     "iopub.execute_input": "2024-08-08T20:49:18.518758Z",
     "iopub.status.busy": "2024-08-08T20:49:18.517862Z",
     "iopub.status.idle": "2024-08-08T20:49:18.548459Z",
     "shell.execute_reply": "2024-08-08T20:49:18.548042Z",
     "shell.execute_reply.started": "2024-08-08T20:49:18.518691Z"
    }
   },
   "outputs": [
    {
     "data": {
      "text/html": [
       "<div>\n",
       "<style scoped>\n",
       "    .dataframe tbody tr th:only-of-type {\n",
       "        vertical-align: middle;\n",
       "    }\n",
       "\n",
       "    .dataframe tbody tr th {\n",
       "        vertical-align: top;\n",
       "    }\n",
       "\n",
       "    .dataframe thead th {\n",
       "        text-align: right;\n",
       "    }\n",
       "</style>\n",
       "<table border=\"1\" class=\"dataframe\">\n",
       "  <thead>\n",
       "    <tr style=\"text-align: right;\">\n",
       "      <th></th>\n",
       "      <th>index</th>\n",
       "      <th>text</th>\n",
       "      <th>model</th>\n",
       "    </tr>\n",
       "  </thead>\n",
       "  <tbody>\n",
       "    <tr>\n",
       "      <th>0</th>\n",
       "      <td>0</td>\n",
       "      <td>{\"Number of Bedrooms\": \"2\", \"Type of Property\"...</td>\n",
       "      <td>ft:davinci-002:personal::9tgOuHsg</td>\n",
       "    </tr>\n",
       "    <tr>\n",
       "      <th>1</th>\n",
       "      <td>1</td>\n",
       "      <td>{\"Number of Bedrooms\": \"1\", \"Type of Property\"...</td>\n",
       "      <td>ft:davinci-002:personal::9tgOuHsg</td>\n",
       "    </tr>\n",
       "    <tr>\n",
       "      <th>2</th>\n",
       "      <td>2</td>\n",
       "      <td>{\"Number of Bedrooms\": \"1\", \"Type of Property\"...</td>\n",
       "      <td>ft:davinci-002:personal::9tgOuHsg</td>\n",
       "    </tr>\n",
       "    <tr>\n",
       "      <th>3</th>\n",
       "      <td>3</td>\n",
       "      <td>{\"Number of Bedrooms\": \"2\", \"Type of Property\"...</td>\n",
       "      <td>ft:davinci-002:personal::9tgOuHsg</td>\n",
       "    </tr>\n",
       "    <tr>\n",
       "      <th>4</th>\n",
       "      <td>4</td>\n",
       "      <td>{\"Number of Bedrooms\": \"1\", \"Type of Property\"...</td>\n",
       "      <td>ft:davinci-002:personal::9tgOuHsg</td>\n",
       "    </tr>\n",
       "    <tr>\n",
       "      <th>...</th>\n",
       "      <td>...</td>\n",
       "      <td>...</td>\n",
       "      <td>...</td>\n",
       "    </tr>\n",
       "    <tr>\n",
       "      <th>115</th>\n",
       "      <td>115</td>\n",
       "      <td>{\"Number of Bedrooms\": \"2\", \"Type of Property\"...</td>\n",
       "      <td>ft:davinci-002:personal::9tgOuHsg</td>\n",
       "    </tr>\n",
       "    <tr>\n",
       "      <th>116</th>\n",
       "      <td>116</td>\n",
       "      <td>{\"Number of Bedrooms\": \"1\", \"Type of Property\"...</td>\n",
       "      <td>ft:davinci-002:personal::9tgOuHsg</td>\n",
       "    </tr>\n",
       "    <tr>\n",
       "      <th>117</th>\n",
       "      <td>117</td>\n",
       "      <td>{\"Number of Bedrooms\": \"1\", \"Type of Property\"...</td>\n",
       "      <td>ft:davinci-002:personal::9tgOuHsg</td>\n",
       "    </tr>\n",
       "    <tr>\n",
       "      <th>118</th>\n",
       "      <td>118</td>\n",
       "      <td>{\"Number of Bedrooms\": \"Not Specified\", \"Type ...</td>\n",
       "      <td>ft:davinci-002:personal::9tgOuHsg</td>\n",
       "    </tr>\n",
       "    <tr>\n",
       "      <th>119</th>\n",
       "      <td>119</td>\n",
       "      <td>{\"Number of Bedrooms\": \"2\", \"Type of Property\"...</td>\n",
       "      <td>ft:davinci-002:personal::9tgOuHsg</td>\n",
       "    </tr>\n",
       "  </tbody>\n",
       "</table>\n",
       "<p>120 rows × 3 columns</p>\n",
       "</div>"
      ],
      "text/plain": [
       "     index                                               text  \\\n",
       "0        0  {\"Number of Bedrooms\": \"2\", \"Type of Property\"...   \n",
       "1        1  {\"Number of Bedrooms\": \"1\", \"Type of Property\"...   \n",
       "2        2  {\"Number of Bedrooms\": \"1\", \"Type of Property\"...   \n",
       "3        3  {\"Number of Bedrooms\": \"2\", \"Type of Property\"...   \n",
       "4        4  {\"Number of Bedrooms\": \"1\", \"Type of Property\"...   \n",
       "..     ...                                                ...   \n",
       "115    115  {\"Number of Bedrooms\": \"2\", \"Type of Property\"...   \n",
       "116    116  {\"Number of Bedrooms\": \"1\", \"Type of Property\"...   \n",
       "117    117  {\"Number of Bedrooms\": \"1\", \"Type of Property\"...   \n",
       "118    118  {\"Number of Bedrooms\": \"Not Specified\", \"Type ...   \n",
       "119    119  {\"Number of Bedrooms\": \"2\", \"Type of Property\"...   \n",
       "\n",
       "                                 model  \n",
       "0    ft:davinci-002:personal::9tgOuHsg  \n",
       "1    ft:davinci-002:personal::9tgOuHsg  \n",
       "2    ft:davinci-002:personal::9tgOuHsg  \n",
       "3    ft:davinci-002:personal::9tgOuHsg  \n",
       "4    ft:davinci-002:personal::9tgOuHsg  \n",
       "..                                 ...  \n",
       "115  ft:davinci-002:personal::9tgOuHsg  \n",
       "116  ft:davinci-002:personal::9tgOuHsg  \n",
       "117  ft:davinci-002:personal::9tgOuHsg  \n",
       "118  ft:davinci-002:personal::9tgOuHsg  \n",
       "119  ft:davinci-002:personal::9tgOuHsg  \n",
       "\n",
       "[120 rows x 3 columns]"
      ]
     },
     "execution_count": 5,
     "metadata": {},
     "output_type": "execute_result"
    }
   ],
   "source": []
  },
  {
   "cell_type": "code",
   "execution_count": 46,
   "id": "59f0e240-65ad-4c47-be20-b73ea6d7906b",
   "metadata": {
    "execution": {
     "iopub.execute_input": "2024-08-08T13:35:40.451201Z",
     "iopub.status.busy": "2024-08-08T13:35:40.450376Z",
     "iopub.status.idle": "2024-08-08T13:35:40.485537Z",
     "shell.execute_reply": "2024-08-08T13:35:40.485138Z",
     "shell.execute_reply.started": "2024-08-08T13:35:40.451139Z"
    }
   },
   "outputs": [],
   "source": [
    "directory = 'fine_tuning_data_v2_detailedInstructions_gpt3format'\n",
    "path_to_test = f\"{directory}/test.jsonl\"\n",
    "path_to_result = f\"{directory}/results_3point5_ft.csv\"\n",
    "# path_to_result = f\"{directory}/results_3point5_og.csv\"\n",
    "\n",
    "field_name_mappings = {\n",
    "    'Number of Bedrooms': {'Bedrooms', 'Number of Beds', 'Bedroom Count'},\n",
    "    'Type of Property': {'Property', 'Housing Type'},\n",
    "    'Is any space shared?': {'space', 'Space', 'Shared'},\n",
    "    'Overall vibes/atmosphere': {'Vibe', 'Atmosphere', 'vibe', 'atmosphere'}  \n",
    "    }\n",
    "\n",
    "\n",
    "\n",
    "eval_df = load_data(\n",
    "    path_to_test=path_to_test, \n",
    "    path_to_result=path_to_result\n",
    "    )\n",
    "\n",
    "# Standardize field names in the JSON text\n",
    "eval_df['gt_text'] = eval_df['gt_text'].apply(lambda x: standardize_field_names(json.loads(x), field_name_mappings) if isinstance(x, str) else x)\n",
    "eval_df['gen_text'] = eval_df['gen_text'].apply(lambda x: standardize_field_names(json.loads(x), field_name_mappings) if isinstance(x, str) else x)"
   ]
  },
  {
   "cell_type": "code",
   "execution_count": 57,
   "id": "7bcab667-1243-4e14-8f13-e0f36403141c",
   "metadata": {
    "execution": {
     "iopub.execute_input": "2024-08-08T13:41:56.536870Z",
     "iopub.status.busy": "2024-08-08T13:41:56.536051Z",
     "iopub.status.idle": "2024-08-08T13:41:56.566352Z",
     "shell.execute_reply": "2024-08-08T13:41:56.565796Z",
     "shell.execute_reply.started": "2024-08-08T13:41:56.536807Z"
    }
   },
   "outputs": [
    {
     "data": {
      "text/html": [
       "<div>\n",
       "<style scoped>\n",
       "    .dataframe tbody tr th:only-of-type {\n",
       "        vertical-align: middle;\n",
       "    }\n",
       "\n",
       "    .dataframe tbody tr th {\n",
       "        vertical-align: top;\n",
       "    }\n",
       "\n",
       "    .dataframe thead th {\n",
       "        text-align: right;\n",
       "    }\n",
       "</style>\n",
       "<table border=\"1\" class=\"dataframe\">\n",
       "  <thead>\n",
       "    <tr style=\"text-align: right;\">\n",
       "      <th></th>\n",
       "      <th>Number of Bedrooms</th>\n",
       "      <th>Type of Property</th>\n",
       "      <th>Is any space shared?</th>\n",
       "      <th>Overall vibes/atmosphere</th>\n",
       "      <th>Number of Bedrooms</th>\n",
       "      <th>Type of Property</th>\n",
       "      <th>Is any space shared?</th>\n",
       "      <th>Overall vibes/atmosphere</th>\n",
       "    </tr>\n",
       "  </thead>\n",
       "  <tbody>\n",
       "    <tr>\n",
       "      <th>0</th>\n",
       "      <td>2</td>\n",
       "      <td>Apartment</td>\n",
       "      <td>FALSE</td>\n",
       "      <td>CHIC</td>\n",
       "      <td>2</td>\n",
       "      <td>Apartment</td>\n",
       "      <td>FALSE</td>\n",
       "      <td>COMFORTABLE</td>\n",
       "    </tr>\n",
       "    <tr>\n",
       "      <th>1</th>\n",
       "      <td>1</td>\n",
       "      <td>Not Specified</td>\n",
       "      <td>Not Specified</td>\n",
       "      <td>COMFORTABLE</td>\n",
       "      <td>1</td>\n",
       "      <td>Room</td>\n",
       "      <td>TRUE</td>\n",
       "      <td>Not Specified</td>\n",
       "    </tr>\n",
       "    <tr>\n",
       "      <th>2</th>\n",
       "      <td>1</td>\n",
       "      <td>Apartment</td>\n",
       "      <td>FALSE</td>\n",
       "      <td>ARTSY</td>\n",
       "      <td>1</td>\n",
       "      <td>Apartment</td>\n",
       "      <td>FALSE</td>\n",
       "      <td>ARTSY</td>\n",
       "    </tr>\n",
       "    <tr>\n",
       "      <th>3</th>\n",
       "      <td>2</td>\n",
       "      <td>Apartment</td>\n",
       "      <td>FALSE</td>\n",
       "      <td>COMFORTABLE</td>\n",
       "      <td>2</td>\n",
       "      <td>Apartment</td>\n",
       "      <td>FALSE</td>\n",
       "      <td>MODERN</td>\n",
       "    </tr>\n",
       "    <tr>\n",
       "      <th>4</th>\n",
       "      <td>1</td>\n",
       "      <td>Apartment</td>\n",
       "      <td>FALSE</td>\n",
       "      <td>COMFORTABLE</td>\n",
       "      <td>1</td>\n",
       "      <td>Apartment</td>\n",
       "      <td>FALSE</td>\n",
       "      <td>COMFORTABLE</td>\n",
       "    </tr>\n",
       "    <tr>\n",
       "      <th>...</th>\n",
       "      <td>...</td>\n",
       "      <td>...</td>\n",
       "      <td>...</td>\n",
       "      <td>...</td>\n",
       "      <td>...</td>\n",
       "      <td>...</td>\n",
       "      <td>...</td>\n",
       "      <td>...</td>\n",
       "    </tr>\n",
       "    <tr>\n",
       "      <th>115</th>\n",
       "      <td>2</td>\n",
       "      <td>Home</td>\n",
       "      <td>FALSE</td>\n",
       "      <td>CHIC</td>\n",
       "      <td>2</td>\n",
       "      <td>Home</td>\n",
       "      <td>FALSE</td>\n",
       "      <td>CHIC</td>\n",
       "    </tr>\n",
       "    <tr>\n",
       "      <th>116</th>\n",
       "      <td>1</td>\n",
       "      <td>Room</td>\n",
       "      <td>TRUE</td>\n",
       "      <td>COMFORTABLE</td>\n",
       "      <td>1</td>\n",
       "      <td>Room</td>\n",
       "      <td>TRUE</td>\n",
       "      <td>COMFORTABLE</td>\n",
       "    </tr>\n",
       "    <tr>\n",
       "      <th>117</th>\n",
       "      <td>1</td>\n",
       "      <td>Room</td>\n",
       "      <td>FALSE</td>\n",
       "      <td>COMFORTABLE</td>\n",
       "      <td>1</td>\n",
       "      <td>Room</td>\n",
       "      <td>TRUE</td>\n",
       "      <td>PLAIN</td>\n",
       "    </tr>\n",
       "    <tr>\n",
       "      <th>118</th>\n",
       "      <td>1</td>\n",
       "      <td>Apartment</td>\n",
       "      <td>FALSE</td>\n",
       "      <td>COMFORTABLE</td>\n",
       "      <td>1</td>\n",
       "      <td>Not Specified</td>\n",
       "      <td>FALSE</td>\n",
       "      <td>HISTORIC</td>\n",
       "    </tr>\n",
       "    <tr>\n",
       "      <th>119</th>\n",
       "      <td>2</td>\n",
       "      <td>Loft</td>\n",
       "      <td>FALSE</td>\n",
       "      <td>CHIC</td>\n",
       "      <td>2</td>\n",
       "      <td>Loft</td>\n",
       "      <td>FALSE</td>\n",
       "      <td>MODERN</td>\n",
       "    </tr>\n",
       "  </tbody>\n",
       "</table>\n",
       "<p>120 rows × 8 columns</p>\n",
       "</div>"
      ],
      "text/plain": [
       "    Number of Bedrooms Type of Property Is any space shared?  \\\n",
       "0                    2        Apartment                FALSE   \n",
       "1                    1    Not Specified        Not Specified   \n",
       "2                    1        Apartment                FALSE   \n",
       "3                    2        Apartment                FALSE   \n",
       "4                    1        Apartment                FALSE   \n",
       "..                 ...              ...                  ...   \n",
       "115                  2             Home                FALSE   \n",
       "116                  1             Room                 TRUE   \n",
       "117                  1             Room                FALSE   \n",
       "118                  1        Apartment                FALSE   \n",
       "119                  2             Loft                FALSE   \n",
       "\n",
       "    Overall vibes/atmosphere Number of Bedrooms Type of Property  \\\n",
       "0                       CHIC                  2        Apartment   \n",
       "1                COMFORTABLE                  1             Room   \n",
       "2                      ARTSY                  1        Apartment   \n",
       "3                COMFORTABLE                  2        Apartment   \n",
       "4                COMFORTABLE                  1        Apartment   \n",
       "..                       ...                ...              ...   \n",
       "115                     CHIC                  2             Home   \n",
       "116              COMFORTABLE                  1             Room   \n",
       "117              COMFORTABLE                  1             Room   \n",
       "118              COMFORTABLE                  1    Not Specified   \n",
       "119                     CHIC                  2             Loft   \n",
       "\n",
       "    Is any space shared? Overall vibes/atmosphere  \n",
       "0                  FALSE              COMFORTABLE  \n",
       "1                   TRUE            Not Specified  \n",
       "2                  FALSE                    ARTSY  \n",
       "3                  FALSE                   MODERN  \n",
       "4                  FALSE              COMFORTABLE  \n",
       "..                   ...                      ...  \n",
       "115                FALSE                     CHIC  \n",
       "116                 TRUE              COMFORTABLE  \n",
       "117                 TRUE                    PLAIN  \n",
       "118                FALSE                 HISTORIC  \n",
       "119                FALSE                   MODERN  \n",
       "\n",
       "[120 rows x 8 columns]"
      ]
     },
     "execution_count": 57,
     "metadata": {},
     "output_type": "execute_result"
    }
   ],
   "source": [
    "pd.concat([pd.json_normalize(eval_df['gt_text']), pd.json_normalize(eval_df['gen_text'])], axis=1)"
   ]
  },
  {
   "cell_type": "code",
   "execution_count": 63,
   "id": "b391811c-16f6-4d93-8e4b-009cb37d0d5c",
   "metadata": {
    "execution": {
     "iopub.execute_input": "2024-08-08T13:51:21.606113Z",
     "iopub.status.busy": "2024-08-08T13:51:21.605001Z",
     "iopub.status.idle": "2024-08-08T13:51:21.621325Z",
     "shell.execute_reply": "2024-08-08T13:51:21.620628Z",
     "shell.execute_reply.started": "2024-08-08T13:51:21.606043Z"
    }
   },
   "outputs": [],
   "source": [
    "gt_eval = pd.json_normalize(eval_df['gt_text'])\n",
    "gen_eval = pd.json_normalize(eval_df['gen_text'])\n",
    "col_names = ['bd', 'prop', 'shared', 'vibe']\n",
    "gt_eval.columns = col_names\n",
    "gen_eval.columns = col_names"
   ]
  },
  {
   "cell_type": "code",
   "execution_count": 64,
   "id": "a2f9dcd9-e273-4adb-b7c7-71c08222e375",
   "metadata": {
    "execution": {
     "iopub.execute_input": "2024-08-08T13:51:31.121753Z",
     "iopub.status.busy": "2024-08-08T13:51:31.120124Z",
     "iopub.status.idle": "2024-08-08T13:51:31.143382Z",
     "shell.execute_reply": "2024-08-08T13:51:31.142826Z",
     "shell.execute_reply.started": "2024-08-08T13:51:31.121656Z"
    }
   },
   "outputs": [
    {
     "data": {
      "text/plain": [
       "bd             prop           shared  vibe       \n",
       "1              Apartment      FALSE   COMFORTABLE    14\n",
       "                                      ARTSY           6\n",
       "               Room           TRUE    COMFORTABLE     5\n",
       "2              Apartment      FALSE   COMFORTABLE     4\n",
       "1              Apartment      TRUE    COMFORTABLE     3\n",
       "                                                     ..\n",
       "               Room           TRUE    ARTSY           1\n",
       "                                      CHIC            1\n",
       "                                      HISTORIC        1\n",
       "               Room in 2BR    TRUE    COMFORTABLE     1\n",
       "Not specified  Not specified  FALSE   COMFORTABLE     1\n",
       "Name: count, Length: 76, dtype: int64"
      ]
     },
     "execution_count": 64,
     "metadata": {},
     "output_type": "execute_result"
    }
   ],
   "source": [
    "gt_eval.value_counts()"
   ]
  },
  {
   "cell_type": "code",
   "execution_count": 71,
   "id": "5367e2dc-6524-4c63-9dff-263a664a3168",
   "metadata": {
    "execution": {
     "iopub.execute_input": "2024-08-08T13:56:12.443540Z",
     "iopub.status.busy": "2024-08-08T13:56:12.442111Z",
     "iopub.status.idle": "2024-08-08T13:56:12.461856Z",
     "shell.execute_reply": "2024-08-08T13:56:12.461413Z",
     "shell.execute_reply.started": "2024-08-08T13:56:12.443463Z"
    }
   },
   "outputs": [],
   "source": [
    "(gt_eval['vibe'].value_counts(normalize=True) * 100).to_clipboard()"
   ]
  },
  {
   "cell_type": "code",
   "execution_count": 72,
   "id": "6fcd54c4-20a3-469e-9239-ed9e5324a6f3",
   "metadata": {
    "execution": {
     "iopub.execute_input": "2024-08-08T13:57:03.722263Z",
     "iopub.status.busy": "2024-08-08T13:57:03.721351Z",
     "iopub.status.idle": "2024-08-08T13:57:03.740059Z",
     "shell.execute_reply": "2024-08-08T13:57:03.739499Z",
     "shell.execute_reply.started": "2024-08-08T13:57:03.722215Z"
    }
   },
   "outputs": [],
   "source": [
    "(gen_eval['vibe'].value_counts(normalize=True) * 100).to_clipboard()"
   ]
  },
  {
   "cell_type": "code",
   "execution_count": 76,
   "id": "2da3e5dc-a93a-4994-a7ae-7238dcc6b671",
   "metadata": {
    "execution": {
     "iopub.execute_input": "2024-08-08T14:01:06.169187Z",
     "iopub.status.busy": "2024-08-08T14:01:06.168306Z",
     "iopub.status.idle": "2024-08-08T14:01:06.182707Z",
     "shell.execute_reply": "2024-08-08T14:01:06.181746Z",
     "shell.execute_reply.started": "2024-08-08T14:01:06.169119Z"
    }
   },
   "outputs": [
    {
     "data": {
      "text/plain": [
       "bd\n",
       "1                70.000000\n",
       "2                16.666667\n",
       "Not Specified     7.500000\n",
       "3                 4.166667\n",
       "Not specified     1.666667\n",
       "Name: proportion, dtype: float64"
      ]
     },
     "execution_count": 76,
     "metadata": {},
     "output_type": "execute_result"
    }
   ],
   "source": [
    "(gt_eval['bd'].value_counts(normalize=True) * 100)"
   ]
  },
  {
   "cell_type": "code",
   "execution_count": 78,
   "id": "f00e516d-c98b-44a8-9272-bed529e8abe4",
   "metadata": {
    "execution": {
     "iopub.execute_input": "2024-08-08T14:02:26.284187Z",
     "iopub.status.busy": "2024-08-08T14:02:26.283292Z",
     "iopub.status.idle": "2024-08-08T14:02:26.300776Z",
     "shell.execute_reply": "2024-08-08T14:02:26.299628Z",
     "shell.execute_reply.started": "2024-08-08T14:02:26.284123Z"
    }
   },
   "outputs": [],
   "source": [
    "(gen_eval['bd'].value_counts(normalize=True) * 100).to_clipboard()"
   ]
  },
  {
   "cell_type": "code",
   "execution_count": 84,
   "id": "cc510a0f-fb9c-42c1-abcd-6f35294f4ded",
   "metadata": {
    "execution": {
     "iopub.execute_input": "2024-08-08T14:06:17.834911Z",
     "iopub.status.busy": "2024-08-08T14:06:17.833872Z",
     "iopub.status.idle": "2024-08-08T14:06:17.847381Z",
     "shell.execute_reply": "2024-08-08T14:06:17.846787Z",
     "shell.execute_reply.started": "2024-08-08T14:06:17.834856Z"
    }
   },
   "outputs": [],
   "source": [
    "(gt_eval['shared'].value_counts(normalize=True) * 100).to_clipboard()\n"
   ]
  },
  {
   "cell_type": "code",
   "execution_count": 85,
   "id": "f3570702-1f9a-4218-8722-e4b99e79d9fa",
   "metadata": {
    "execution": {
     "iopub.execute_input": "2024-08-08T14:06:30.036648Z",
     "iopub.status.busy": "2024-08-08T14:06:30.035756Z",
     "iopub.status.idle": "2024-08-08T14:06:30.052464Z",
     "shell.execute_reply": "2024-08-08T14:06:30.050446Z",
     "shell.execute_reply.started": "2024-08-08T14:06:30.036583Z"
    }
   },
   "outputs": [],
   "source": [
    "(gen_eval['shared'].value_counts(normalize=True) * 100).to_clipboard()"
   ]
  },
  {
   "cell_type": "code",
   "execution_count": 87,
   "id": "3e4de744-6258-4e2e-a62b-071177f142dc",
   "metadata": {
    "execution": {
     "iopub.execute_input": "2024-08-08T14:07:14.586544Z",
     "iopub.status.busy": "2024-08-08T14:07:14.585475Z",
     "iopub.status.idle": "2024-08-08T14:07:14.605786Z",
     "shell.execute_reply": "2024-08-08T14:07:14.605361Z",
     "shell.execute_reply.started": "2024-08-08T14:07:14.586510Z"
    }
   },
   "outputs": [
    {
     "data": {
      "text/plain": [
       "prop\n",
       "Apartment              41.666667\n",
       "Room                   11.666667\n",
       "Loft                   10.000000\n",
       "Studio                  5.000000\n",
       "Not Specified           5.000000\n",
       "Townhouse               3.333333\n",
       "Brownstone              3.333333\n",
       "Duplex                  2.500000\n",
       "Private Room            2.500000\n",
       "Home                    2.500000\n",
       "Not specified           1.666667\n",
       "House                   1.666667\n",
       "Suite                   0.833333\n",
       "Farmhouse Apartment     0.833333\n",
       "Room in 2BR             0.833333\n",
       "Condo                   0.833333\n",
       "br                      0.833333\n",
       "Building                0.833333\n",
       "Studio Apartment        0.833333\n",
       "Apt                     0.833333\n",
       "Bedroom                 0.833333\n",
       "Studio-Loft             0.833333\n",
       "Apartament              0.833333\n",
       "Name: proportion, dtype: float64"
      ]
     },
     "execution_count": 87,
     "metadata": {},
     "output_type": "execute_result"
    }
   ],
   "source": [
    "(gt_eval['prop'].value_counts(normalize=True) * 100)"
   ]
  },
  {
   "cell_type": "code",
   "execution_count": 88,
   "id": "7971dac5-4de2-43c8-a2fe-9096de9d76c0",
   "metadata": {
    "execution": {
     "iopub.execute_input": "2024-08-08T14:07:26.599787Z",
     "iopub.status.busy": "2024-08-08T14:07:26.598844Z",
     "iopub.status.idle": "2024-08-08T14:07:26.614836Z",
     "shell.execute_reply": "2024-08-08T14:07:26.614095Z",
     "shell.execute_reply.started": "2024-08-08T14:07:26.599646Z"
    }
   },
   "outputs": [
    {
     "data": {
      "text/plain": [
       "prop\n",
       "Apartment        50.833333\n",
       "Room             14.166667\n",
       "Loft              8.333333\n",
       "Studio            5.000000\n",
       "Not Specified     4.166667\n",
       "Townhouse         3.333333\n",
       "House             2.500000\n",
       "Duplex            2.500000\n",
       "Brownstone        2.500000\n",
       "Home              2.500000\n",
       "Studio-Loft       0.833333\n",
       "Suite             0.833333\n",
       "Condo             0.833333\n",
       "Flat              0.833333\n",
       "Bedroom           0.833333\n",
       "Name: proportion, dtype: float64"
      ]
     },
     "execution_count": 88,
     "metadata": {},
     "output_type": "execute_result"
    }
   ],
   "source": [
    "(gen_eval['prop'].value_counts(normalize=True) * 100)"
   ]
  },
  {
   "cell_type": "code",
   "execution_count": 2,
   "id": "a0012e2e-e6b1-48b7-a6c9-69229fd6afd8",
   "metadata": {
    "execution": {
     "iopub.execute_input": "2024-08-08T20:32:46.596244Z",
     "iopub.status.busy": "2024-08-08T20:32:46.594961Z",
     "iopub.status.idle": "2024-08-08T20:32:46.623287Z",
     "shell.execute_reply": "2024-08-08T20:32:46.622450Z",
     "shell.execute_reply.started": "2024-08-08T20:32:46.596164Z"
    }
   },
   "outputs": [
    {
     "data": {
      "text/plain": [
       "dict_keys(['ft:babbage-002:personal::9tf9RTDu', 'ft:babbage-002:personal::9tg6PCpn', 'ft:babbage-002:personal::9tf9VhUQ', 'ft:babbage-002:personal::9tg8SIK0', 'ft:davinci-002:personal::9tgOuHsg', 'ft:gpt-3.5-turbo-0125:personal::9tg6PAnc'])"
      ]
     },
     "execution_count": 2,
     "metadata": {},
     "output_type": "execute_result"
    }
   ],
   "source": [
    "file_name_dict = {\n",
    "        'ft:babbage-002:personal::9tf9RTDu': {\n",
    "            'directory': 'fine_tuning_data_v2',\n",
    "            'file_name': 'babbage-002_epoch4_result.csv'\n",
    "        },\n",
    "        'ft:babbage-002:personal::9tg6PCpn': {\n",
    "            'directory': 'fine_tuning_data_v2',\n",
    "            'file_name': 'babbage-002_epoch3_result.csv'\n",
    "        },\n",
    "        'ft:babbage-002:personal::9tf9VhUQ': {\n",
    "            'directory': 'fine_tuning_data_v2_detailedInstructions',\n",
    "            'file_name': 'babbage-002_epoch4_result.csv'\n",
    "        },\n",
    "        'ft:babbage-002:personal::9tg8SIK0': {\n",
    "            'directory': 'fine_tuning_data_v2_detailedInstructions',\n",
    "            'file_name': 'babbage-002_epoch3_result.csv'\n",
    "        },\n",
    "        'ft:davinci-002:personal::9tgOuHsg':{\n",
    "            'directory': 'fine_tuning_data_v2_detailedInstructions',\n",
    "            'file_name': 'davinci_epoch3_result.csv'\n",
    "        },\n",
    "        'ft:gpt-3.5-turbo-0125:personal::9tg6PAnc': {\n",
    "            'directory': 'fine_tuning_data_v2_detailedInstructions',\n",
    "            'file_name': 'gpt3point5_epoch3_result.csv'\n",
    "        }\n",
    "    }\n",
    "\n",
    "file_name_dict.keys()"
   ]
  },
  {
   "cell_type": "code",
   "execution_count": 6,
   "id": "a41d3474-b9c4-46fa-bd87-a9ded954f4ca",
   "metadata": {
    "execution": {
     "iopub.execute_input": "2024-08-08T21:05:38.433642Z",
     "iopub.status.busy": "2024-08-08T21:05:38.433085Z",
     "iopub.status.idle": "2024-08-08T21:05:38.453922Z",
     "shell.execute_reply": "2024-08-08T21:05:38.453490Z",
     "shell.execute_reply.started": "2024-08-08T21:05:38.433610Z"
    }
   },
   "outputs": [
    {
     "data": {
      "text/html": [
       "<div>\n",
       "<style scoped>\n",
       "    .dataframe tbody tr th:only-of-type {\n",
       "        vertical-align: middle;\n",
       "    }\n",
       "\n",
       "    .dataframe tbody tr th {\n",
       "        vertical-align: top;\n",
       "    }\n",
       "\n",
       "    .dataframe thead th {\n",
       "        text-align: right;\n",
       "    }\n",
       "</style>\n",
       "<table border=\"1\" class=\"dataframe\">\n",
       "  <thead>\n",
       "    <tr style=\"text-align: right;\">\n",
       "      <th></th>\n",
       "      <th>index</th>\n",
       "      <th>text</th>\n",
       "      <th>model</th>\n",
       "    </tr>\n",
       "  </thead>\n",
       "  <tbody>\n",
       "    <tr>\n",
       "      <th>0</th>\n",
       "      <td>0</td>\n",
       "      <td>{\"Number of Bedrooms\": \"2\", \"Type of Property\"...</td>\n",
       "      <td>ft:davinci-002:personal::9tgOuHsg</td>\n",
       "    </tr>\n",
       "    <tr>\n",
       "      <th>1</th>\n",
       "      <td>1</td>\n",
       "      <td>{\"Number of Bedrooms\": \"1\", \"Type of Property\"...</td>\n",
       "      <td>ft:davinci-002:personal::9tgOuHsg</td>\n",
       "    </tr>\n",
       "    <tr>\n",
       "      <th>2</th>\n",
       "      <td>2</td>\n",
       "      <td>{\"Number of Bedrooms\": \"1\", \"Type of Property\"...</td>\n",
       "      <td>ft:davinci-002:personal::9tgOuHsg</td>\n",
       "    </tr>\n",
       "    <tr>\n",
       "      <th>3</th>\n",
       "      <td>3</td>\n",
       "      <td>{\"Number of Bedrooms\": \"2\", \"Type of Property\"...</td>\n",
       "      <td>ft:davinci-002:personal::9tgOuHsg</td>\n",
       "    </tr>\n",
       "    <tr>\n",
       "      <th>4</th>\n",
       "      <td>4</td>\n",
       "      <td>{\"Number of Bedrooms\": \"1\", \"Type of Property\"...</td>\n",
       "      <td>ft:davinci-002:personal::9tgOuHsg</td>\n",
       "    </tr>\n",
       "    <tr>\n",
       "      <th>...</th>\n",
       "      <td>...</td>\n",
       "      <td>...</td>\n",
       "      <td>...</td>\n",
       "    </tr>\n",
       "    <tr>\n",
       "      <th>115</th>\n",
       "      <td>115</td>\n",
       "      <td>{\"Number of Bedrooms\": \"2\", \"Type of Property\"...</td>\n",
       "      <td>ft:davinci-002:personal::9tgOuHsg</td>\n",
       "    </tr>\n",
       "    <tr>\n",
       "      <th>116</th>\n",
       "      <td>116</td>\n",
       "      <td>{\"Number of Bedrooms\": \"1\", \"Type of Property\"...</td>\n",
       "      <td>ft:davinci-002:personal::9tgOuHsg</td>\n",
       "    </tr>\n",
       "    <tr>\n",
       "      <th>117</th>\n",
       "      <td>117</td>\n",
       "      <td>{\"Number of Bedrooms\": \"1\", \"Type of Property\"...</td>\n",
       "      <td>ft:davinci-002:personal::9tgOuHsg</td>\n",
       "    </tr>\n",
       "    <tr>\n",
       "      <th>118</th>\n",
       "      <td>118</td>\n",
       "      <td>{\"Number of Bedrooms\": \"Not Specified\", \"Type ...</td>\n",
       "      <td>ft:davinci-002:personal::9tgOuHsg</td>\n",
       "    </tr>\n",
       "    <tr>\n",
       "      <th>119</th>\n",
       "      <td>119</td>\n",
       "      <td>{\"Number of Bedrooms\": \"2\", \"Type of Property\"...</td>\n",
       "      <td>ft:davinci-002:personal::9tgOuHsg</td>\n",
       "    </tr>\n",
       "  </tbody>\n",
       "</table>\n",
       "<p>120 rows × 3 columns</p>\n",
       "</div>"
      ],
      "text/plain": [
       "     index                                               text  \\\n",
       "0        0  {\"Number of Bedrooms\": \"2\", \"Type of Property\"...   \n",
       "1        1  {\"Number of Bedrooms\": \"1\", \"Type of Property\"...   \n",
       "2        2  {\"Number of Bedrooms\": \"1\", \"Type of Property\"...   \n",
       "3        3  {\"Number of Bedrooms\": \"2\", \"Type of Property\"...   \n",
       "4        4  {\"Number of Bedrooms\": \"1\", \"Type of Property\"...   \n",
       "..     ...                                                ...   \n",
       "115    115  {\"Number of Bedrooms\": \"2\", \"Type of Property\"...   \n",
       "116    116  {\"Number of Bedrooms\": \"1\", \"Type of Property\"...   \n",
       "117    117  {\"Number of Bedrooms\": \"1\", \"Type of Property\"...   \n",
       "118    118  {\"Number of Bedrooms\": \"Not Specified\", \"Type ...   \n",
       "119    119  {\"Number of Bedrooms\": \"2\", \"Type of Property\"...   \n",
       "\n",
       "                                 model  \n",
       "0    ft:davinci-002:personal::9tgOuHsg  \n",
       "1    ft:davinci-002:personal::9tgOuHsg  \n",
       "2    ft:davinci-002:personal::9tgOuHsg  \n",
       "3    ft:davinci-002:personal::9tgOuHsg  \n",
       "4    ft:davinci-002:personal::9tgOuHsg  \n",
       "..                                 ...  \n",
       "115  ft:davinci-002:personal::9tgOuHsg  \n",
       "116  ft:davinci-002:personal::9tgOuHsg  \n",
       "117  ft:davinci-002:personal::9tgOuHsg  \n",
       "118  ft:davinci-002:personal::9tgOuHsg  \n",
       "119  ft:davinci-002:personal::9tgOuHsg  \n",
       "\n",
       "[120 rows x 3 columns]"
      ]
     },
     "execution_count": 6,
     "metadata": {},
     "output_type": "execute_result"
    }
   ],
   "source": [
    "pred_df = pd.read_csv('fine_tuning_data_v2_detailedInstructions/davinci_epoch3_result.csv')\n",
    "pred_df"
   ]
  },
  {
   "cell_type": "code",
   "execution_count": 65,
   "id": "d6916634-2602-405d-aedb-1ebce03140e8",
   "metadata": {
    "execution": {
     "iopub.execute_input": "2024-08-08T21:36:13.630407Z",
     "iopub.status.busy": "2024-08-08T21:36:13.629366Z",
     "iopub.status.idle": "2024-08-08T21:36:13.647242Z",
     "shell.execute_reply": "2024-08-08T21:36:13.646131Z",
     "shell.execute_reply.started": "2024-08-08T21:36:13.630339Z"
    }
   },
   "outputs": [
    {
     "name": "stdout",
     "output_type": "stream",
     "text": [
      "{\"Number of Bedrooms\": \"2\", \"Type of Property\": \"Apartment\", \"Is any space shared?\": \"FALSE\", \"Overall vibes/atmosphere\": \"COMFORTABLE\"}{\"Number of Bedrooms\": \"2\", \"Type of Property\": \"Apartment\", \"Is any space shared?\": \"FALSE\", \"Overall vibes/atmosphere\": \"COMFORTABLE\"}{\"Number of Bedrooms\": \"2\", \"Type of Property\": \"Apartment\", \"Is any space shared?\": \"FALSE\", \"Overall vibes/atmosphere\": \"COMFORTABLE\"}{\"Number of Bedrooms\": \"2\", \"Type of Property\": \"Apartment\", \"Is any space shared?\": \"FALSE\", \"Overall vibes\n"
     ]
    }
   ],
   "source": [
    "raw_json = pred_df['text'][0]\n",
    "print(raw_json)\n",
    "\n",
    "def fix_and_separate_jsons(malformed_json):\n",
    "\n",
    "    try: \n",
    "        obj = json.loads(malformed_json)\n",
    "        return obj, \"Perfect\"\n",
    "    except Exception as e: \n",
    "        print(e)\n",
    "    \n",
    "    brace_level = 0\n",
    "    current_object = ''\n",
    "    \n",
    "    for char in malformed_json:\n",
    "        if char == '{':\n",
    "            brace_level += 1\n",
    "        if brace_level > 0:\n",
    "            current_object += char\n",
    "        if char == '}':\n",
    "            brace_level -= 1\n",
    "        \n",
    "        # When brace level returns to 0, try to parse the JSON object\n",
    "        if brace_level == 0 and current_object:\n",
    "            try:\n",
    "                print(current_object)\n",
    "                obj = json.loads(current_object)\n",
    "                return obj, \"Fixable\"\n",
    "            except json.JSONDecodeError:\n",
    "                # Attempt to repair by properly closing the JSON\n",
    "                try:\n",
    "                    repaired_object = current_object + '}'\n",
    "                    obj = json.loads(repaired_object)\n",
    "                    return obj, \"Fixable\"\n",
    "                except json.JSONDecodeError:\n",
    "                    current_object = ''  # Reset the current object if repair fails\n",
    "    return None, \"Unfixable\"   # If no valid JSON object was parsed"
   ]
  },
  {
   "cell_type": "code",
   "execution_count": 66,
   "id": "ede69152-1c71-43ab-b2a8-cb23675efec6",
   "metadata": {
    "execution": {
     "iopub.execute_input": "2024-08-08T21:36:15.120348Z",
     "iopub.status.busy": "2024-08-08T21:36:15.118764Z",
     "iopub.status.idle": "2024-08-08T21:36:15.139377Z",
     "shell.execute_reply": "2024-08-08T21:36:15.137658Z",
     "shell.execute_reply.started": "2024-08-08T21:36:15.120276Z"
    }
   },
   "outputs": [
    {
     "name": "stdout",
     "output_type": "stream",
     "text": [
      "Extra data: line 1 column 137 (char 136)\n",
      "{\"Number of Bedrooms\": \"2\", \"Type of Property\": \"Apartment\", \"Is any space shared?\": \"FALSE\", \"Overall vibes/atmosphere\": \"COMFORTABLE\"}\n",
      "Extra data: line 1 column 125 (char 124)\n",
      "{\"Number of Bedrooms\": \"1\", \"Type of Property\": \"Room\", \"Is any space shared?\": \"TRUE\", \"Overall vibes/atmosphere\": \"PLAIN\"}\n",
      "Extra data: line 1 column 131 (char 130)\n",
      "{\"Number of Bedrooms\": \"1\", \"Type of Property\": \"Apartment\", \"Is any space shared?\": \"FALSE\", \"Overall vibes/atmosphere\": \"ARTSY\"}\n",
      "Extra data: line 1 column 130 (char 129)\n",
      "{\"Number of Bedrooms\": \"2\", \"Type of Property\": \"Apartment\", \"Is any space shared?\": \"FALSE\", \"Overall vibes/atmosphere\": \"CHIC\"}\n",
      "Extra data: line 1 column 130 (char 129)\n",
      "{\"Number of Bedrooms\": \"1\", \"Type of Property\": \"Apartment\", \"Is any space shared?\": \"FALSE\", \"Overall vibes/atmosphere\": \"CHIC\"}\n"
     ]
    }
   ],
   "source": [
    "statuses = []\n",
    "jsons = []\n",
    "\n",
    "for i, row in pred_df.head().iterrows():\n",
    "    raw_json = row['text']\n",
    "    j, s = fix_and_separate_jsons(raw_json)\n",
    "    jsons.append(j)\n",
    "    statuses.append(s)"
   ]
  },
  {
   "cell_type": "code",
   "execution_count": 67,
   "id": "5b11d517-3e27-4844-a3b7-4d562476672a",
   "metadata": {
    "execution": {
     "iopub.execute_input": "2024-08-08T21:36:20.674080Z",
     "iopub.status.busy": "2024-08-08T21:36:20.672901Z",
     "iopub.status.idle": "2024-08-08T21:36:20.688459Z",
     "shell.execute_reply": "2024-08-08T21:36:20.686575Z",
     "shell.execute_reply.started": "2024-08-08T21:36:20.674013Z"
    }
   },
   "outputs": [
    {
     "data": {
      "text/plain": [
       "['Fixable', 'Fixable', 'Fixable', 'Fixable', 'Fixable']"
      ]
     },
     "execution_count": 67,
     "metadata": {},
     "output_type": "execute_result"
    }
   ],
   "source": [
    "statuses"
   ]
  },
  {
   "cell_type": "code",
   "execution_count": 68,
   "id": "ba52a9b1-f974-4465-809e-279f4f90e5e1",
   "metadata": {
    "execution": {
     "iopub.execute_input": "2024-08-08T21:36:23.407599Z",
     "iopub.status.busy": "2024-08-08T21:36:23.406866Z",
     "iopub.status.idle": "2024-08-08T21:36:23.420735Z",
     "shell.execute_reply": "2024-08-08T21:36:23.418509Z",
     "shell.execute_reply.started": "2024-08-08T21:36:23.407550Z"
    }
   },
   "outputs": [
    {
     "data": {
      "text/plain": [
       "['Fixable', 'Fixable', 'Fixable']"
      ]
     },
     "execution_count": 68,
     "metadata": {},
     "output_type": "execute_result"
    }
   ],
   "source": [
    "statuses[:3]"
   ]
  },
  {
   "cell_type": "code",
   "execution_count": null,
   "id": "b2299a5d-bf22-4981-a222-e72257e89771",
   "metadata": {},
   "outputs": [],
   "source": []
  }
 ],
 "metadata": {
  "kernelspec": {
   "display_name": "Python 3 (ipykernel)",
   "language": "python",
   "name": "python3"
  },
  "language_info": {
   "codemirror_mode": {
    "name": "ipython",
    "version": 3
   },
   "file_extension": ".py",
   "mimetype": "text/x-python",
   "name": "python",
   "nbconvert_exporter": "python",
   "pygments_lexer": "ipython3",
   "version": "3.11.7"
  }
 },
 "nbformat": 4,
 "nbformat_minor": 5
}
